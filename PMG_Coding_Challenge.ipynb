{
  "nbformat": 4,
  "nbformat_minor": 0,
  "metadata": {
    "colab": {
      "name": "PMG Coding Challenge.ipynb",
      "provenance": [],
      "collapsed_sections": []
    },
    "kernelspec": {
      "name": "python3",
      "display_name": "Python 3"
    },
    "language_info": {
      "name": "python"
    }
  },
  "cells": [
    {
      "cell_type": "code",
      "execution_count": 112,
      "metadata": {
        "colab": {
          "base_uri": "https://localhost:8080/"
        },
        "id": "PN99DaW59Md5",
        "outputId": "342cf447-1693-45ba-fa50-2de617f851ef"
      },
      "outputs": [
        {
          "output_type": "stream",
          "name": "stdout",
          "text": [
            "/content/fixtures\n"
          ]
        }
      ],
      "source": [
        "import pandas as pd\n",
        "import os\n",
        "%cd ../fixtures/"
      ]
    },
    {
      "cell_type": "code",
      "source": [
        "master_df = pd.DataFrame()\n",
        "accumulator_df2 = pd.DataFrame()\n",
        "PATH = os.path.join(os.getcwd())\n",
        "\n",
        "for file in os.listdir(PATH):\n",
        "  if file.endswith('.csv'):\n",
        "    accumulator_df = pd.read_csv(file)\n",
        "    accumulator_df = accumulator_df.assign(filename = file)\n",
        "    master_df = master_df.append(accumulator_df)\n",
        "\n",
        "master_df"
      ],
      "metadata": {
        "colab": {
          "base_uri": "https://localhost:8080/",
          "height": 424
        },
        "id": "js29uRzsesjt",
        "outputId": "15af5f3a-0333-4182-f7df-5b4cf26362a7"
      },
      "execution_count": 113,
      "outputs": [
        {
          "output_type": "execute_result",
          "data": {
            "text/plain": [
              "                                            email_hash          category  \\\n",
              "0    b9f6f22276c919da793da65c76345ebb0b072257d12402...           Blouses   \n",
              "1    c2b5fa9e09ef2464a2b9ed7e351a5e1499823083c05791...            Shirts   \n",
              "2    faaee0ff7d06b05313ecb75d46a9aed014b11023ca1af5...           Blouses   \n",
              "3    5cd72da5035f2b36b604a16efc639cd04b6cfae7e487dc...            Shirts   \n",
              "4    00449a86bb34e443a5f84635661f63514574a030a15e2e...         Cardigans   \n",
              "..                                                 ...               ...   \n",
              "825  c1f3ce7004f2a5c95fdddc002319f2186d4838de68f0d8...   Kitchen Cleaner   \n",
              "826  3a008bb70763d4b6429fdda15dccac3501f2360744f43c...   Kitchen Cleaner   \n",
              "827  4d275bb1eedfba7a307d3d1b0b1e6459743ec232b9b05b...   Kitchen Cleaner   \n",
              "828  3931ed938bd5ed296b7ea4b7ea753029adc3f1199273f7...  Bathroom Cleaner   \n",
              "829  fa76c33e58b5cbd453ba5b89b41015097ba25e5ea6eec7...  Bathroom Cleaner   \n",
              "\n",
              "                   filename  \n",
              "0              clothing.csv  \n",
              "1              clothing.csv  \n",
              "2              clothing.csv  \n",
              "3              clothing.csv  \n",
              "4              clothing.csv  \n",
              "..                      ...  \n",
              "825  household_cleaners.csv  \n",
              "826  household_cleaners.csv  \n",
              "827  household_cleaners.csv  \n",
              "828  household_cleaners.csv  \n",
              "829  household_cleaners.csv  \n",
              "\n",
              "[1172 rows x 3 columns]"
            ],
            "text/html": [
              "\n",
              "  <div id=\"df-4d01ed19-318a-4f04-bcd9-3ee694e42ff8\">\n",
              "    <div class=\"colab-df-container\">\n",
              "      <div>\n",
              "<style scoped>\n",
              "    .dataframe tbody tr th:only-of-type {\n",
              "        vertical-align: middle;\n",
              "    }\n",
              "\n",
              "    .dataframe tbody tr th {\n",
              "        vertical-align: top;\n",
              "    }\n",
              "\n",
              "    .dataframe thead th {\n",
              "        text-align: right;\n",
              "    }\n",
              "</style>\n",
              "<table border=\"1\" class=\"dataframe\">\n",
              "  <thead>\n",
              "    <tr style=\"text-align: right;\">\n",
              "      <th></th>\n",
              "      <th>email_hash</th>\n",
              "      <th>category</th>\n",
              "      <th>filename</th>\n",
              "    </tr>\n",
              "  </thead>\n",
              "  <tbody>\n",
              "    <tr>\n",
              "      <th>0</th>\n",
              "      <td>b9f6f22276c919da793da65c76345ebb0b072257d12402...</td>\n",
              "      <td>Blouses</td>\n",
              "      <td>clothing.csv</td>\n",
              "    </tr>\n",
              "    <tr>\n",
              "      <th>1</th>\n",
              "      <td>c2b5fa9e09ef2464a2b9ed7e351a5e1499823083c05791...</td>\n",
              "      <td>Shirts</td>\n",
              "      <td>clothing.csv</td>\n",
              "    </tr>\n",
              "    <tr>\n",
              "      <th>2</th>\n",
              "      <td>faaee0ff7d06b05313ecb75d46a9aed014b11023ca1af5...</td>\n",
              "      <td>Blouses</td>\n",
              "      <td>clothing.csv</td>\n",
              "    </tr>\n",
              "    <tr>\n",
              "      <th>3</th>\n",
              "      <td>5cd72da5035f2b36b604a16efc639cd04b6cfae7e487dc...</td>\n",
              "      <td>Shirts</td>\n",
              "      <td>clothing.csv</td>\n",
              "    </tr>\n",
              "    <tr>\n",
              "      <th>4</th>\n",
              "      <td>00449a86bb34e443a5f84635661f63514574a030a15e2e...</td>\n",
              "      <td>Cardigans</td>\n",
              "      <td>clothing.csv</td>\n",
              "    </tr>\n",
              "    <tr>\n",
              "      <th>...</th>\n",
              "      <td>...</td>\n",
              "      <td>...</td>\n",
              "      <td>...</td>\n",
              "    </tr>\n",
              "    <tr>\n",
              "      <th>825</th>\n",
              "      <td>c1f3ce7004f2a5c95fdddc002319f2186d4838de68f0d8...</td>\n",
              "      <td>Kitchen Cleaner</td>\n",
              "      <td>household_cleaners.csv</td>\n",
              "    </tr>\n",
              "    <tr>\n",
              "      <th>826</th>\n",
              "      <td>3a008bb70763d4b6429fdda15dccac3501f2360744f43c...</td>\n",
              "      <td>Kitchen Cleaner</td>\n",
              "      <td>household_cleaners.csv</td>\n",
              "    </tr>\n",
              "    <tr>\n",
              "      <th>827</th>\n",
              "      <td>4d275bb1eedfba7a307d3d1b0b1e6459743ec232b9b05b...</td>\n",
              "      <td>Kitchen Cleaner</td>\n",
              "      <td>household_cleaners.csv</td>\n",
              "    </tr>\n",
              "    <tr>\n",
              "      <th>828</th>\n",
              "      <td>3931ed938bd5ed296b7ea4b7ea753029adc3f1199273f7...</td>\n",
              "      <td>Bathroom Cleaner</td>\n",
              "      <td>household_cleaners.csv</td>\n",
              "    </tr>\n",
              "    <tr>\n",
              "      <th>829</th>\n",
              "      <td>fa76c33e58b5cbd453ba5b89b41015097ba25e5ea6eec7...</td>\n",
              "      <td>Bathroom Cleaner</td>\n",
              "      <td>household_cleaners.csv</td>\n",
              "    </tr>\n",
              "  </tbody>\n",
              "</table>\n",
              "<p>1172 rows × 3 columns</p>\n",
              "</div>\n",
              "      <button class=\"colab-df-convert\" onclick=\"convertToInteractive('df-4d01ed19-318a-4f04-bcd9-3ee694e42ff8')\"\n",
              "              title=\"Convert this dataframe to an interactive table.\"\n",
              "              style=\"display:none;\">\n",
              "        \n",
              "  <svg xmlns=\"http://www.w3.org/2000/svg\" height=\"24px\"viewBox=\"0 0 24 24\"\n",
              "       width=\"24px\">\n",
              "    <path d=\"M0 0h24v24H0V0z\" fill=\"none\"/>\n",
              "    <path d=\"M18.56 5.44l.94 2.06.94-2.06 2.06-.94-2.06-.94-.94-2.06-.94 2.06-2.06.94zm-11 1L8.5 8.5l.94-2.06 2.06-.94-2.06-.94L8.5 2.5l-.94 2.06-2.06.94zm10 10l.94 2.06.94-2.06 2.06-.94-2.06-.94-.94-2.06-.94 2.06-2.06.94z\"/><path d=\"M17.41 7.96l-1.37-1.37c-.4-.4-.92-.59-1.43-.59-.52 0-1.04.2-1.43.59L10.3 9.45l-7.72 7.72c-.78.78-.78 2.05 0 2.83L4 21.41c.39.39.9.59 1.41.59.51 0 1.02-.2 1.41-.59l7.78-7.78 2.81-2.81c.8-.78.8-2.07 0-2.86zM5.41 20L4 18.59l7.72-7.72 1.47 1.35L5.41 20z\"/>\n",
              "  </svg>\n",
              "      </button>\n",
              "      \n",
              "  <style>\n",
              "    .colab-df-container {\n",
              "      display:flex;\n",
              "      flex-wrap:wrap;\n",
              "      gap: 12px;\n",
              "    }\n",
              "\n",
              "    .colab-df-convert {\n",
              "      background-color: #E8F0FE;\n",
              "      border: none;\n",
              "      border-radius: 50%;\n",
              "      cursor: pointer;\n",
              "      display: none;\n",
              "      fill: #1967D2;\n",
              "      height: 32px;\n",
              "      padding: 0 0 0 0;\n",
              "      width: 32px;\n",
              "    }\n",
              "\n",
              "    .colab-df-convert:hover {\n",
              "      background-color: #E2EBFA;\n",
              "      box-shadow: 0px 1px 2px rgba(60, 64, 67, 0.3), 0px 1px 3px 1px rgba(60, 64, 67, 0.15);\n",
              "      fill: #174EA6;\n",
              "    }\n",
              "\n",
              "    [theme=dark] .colab-df-convert {\n",
              "      background-color: #3B4455;\n",
              "      fill: #D2E3FC;\n",
              "    }\n",
              "\n",
              "    [theme=dark] .colab-df-convert:hover {\n",
              "      background-color: #434B5C;\n",
              "      box-shadow: 0px 1px 3px 1px rgba(0, 0, 0, 0.15);\n",
              "      filter: drop-shadow(0px 1px 2px rgba(0, 0, 0, 0.3));\n",
              "      fill: #FFFFFF;\n",
              "    }\n",
              "  </style>\n",
              "\n",
              "      <script>\n",
              "        const buttonEl =\n",
              "          document.querySelector('#df-4d01ed19-318a-4f04-bcd9-3ee694e42ff8 button.colab-df-convert');\n",
              "        buttonEl.style.display =\n",
              "          google.colab.kernel.accessAllowed ? 'block' : 'none';\n",
              "\n",
              "        async function convertToInteractive(key) {\n",
              "          const element = document.querySelector('#df-4d01ed19-318a-4f04-bcd9-3ee694e42ff8');\n",
              "          const dataTable =\n",
              "            await google.colab.kernel.invokeFunction('convertToInteractive',\n",
              "                                                     [key], {});\n",
              "          if (!dataTable) return;\n",
              "\n",
              "          const docLinkHtml = 'Like what you see? Visit the ' +\n",
              "            '<a target=\"_blank\" href=https://colab.research.google.com/notebooks/data_table.ipynb>data table notebook</a>'\n",
              "            + ' to learn more about interactive tables.';\n",
              "          element.innerHTML = '';\n",
              "          dataTable['output_type'] = 'display_data';\n",
              "          await google.colab.output.renderOutput(dataTable, element);\n",
              "          const docLink = document.createElement('div');\n",
              "          docLink.innerHTML = docLinkHtml;\n",
              "          element.appendChild(docLink);\n",
              "        }\n",
              "      </script>\n",
              "    </div>\n",
              "  </div>\n",
              "  "
            ]
          },
          "metadata": {},
          "execution_count": 113
        }
      ]
    },
    {
      "cell_type": "code",
      "source": [
        "os.getcwd()\n",
        "\n",
        "\n"
      ],
      "metadata": {
        "colab": {
          "base_uri": "https://localhost:8080/",
          "height": 35
        },
        "id": "WPpVzQGkgUts",
        "outputId": "78dbb32b-ca78-408b-f82c-987ac30e3339"
      },
      "execution_count": 77,
      "outputs": [
        {
          "output_type": "execute_result",
          "data": {
            "text/plain": [
              "'/content'"
            ],
            "application/vnd.google.colaboratory.intrinsic+json": {
              "type": "string"
            }
          },
          "metadata": {},
          "execution_count": 77
        }
      ]
    }
  ]
}